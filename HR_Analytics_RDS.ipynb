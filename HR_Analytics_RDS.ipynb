{
 "cells": [
  {
   "cell_type": "markdown",
   "metadata": {},
   "source": [
    "# An Examination of Bias and Fairness in Data Science Job Change Predictor\n",
    "\n",
    "## Authors: Claire Saint-Donat, Xiangyue Wang\n",
    "\n",
    "For our final project, we wish to examine an Automated Decision System (ADS), developed by the Kaggle user Josh, that predicts whether data scientists will seek new jobs. Using a set of features about a given data scientist, the ADS categorizes them as either “job seeker” or “non-job seeker”. The ADS, published on Kaggle, consists of data-preprocessing, data exploration, and model-fitting that utilizes SVM, decision trees, random forests, logistic regression, and KNN. Our aim is to design a nutritional label for the ADS that examines the bias in the data, the processing, and one ML model used in this ADS.\n",
    "\n",
    "## Set Up & Data Loading"
   ]
  },
  {
   "cell_type": "code",
   "execution_count": 1,
   "metadata": {},
   "outputs": [],
   "source": [
    "## Set up environment\n",
    "import pandas as pd\n",
    "import numpy as np\n",
    "import matplotlib.pyplot as plt\n",
    "import matplotlib.gridspec as gs\n",
    "import matplotlib.ticker as mtick\n",
    "import seaborn as sns\n",
    "from pandas_profiling import ProfileReport"
   ]
  },
  {
   "cell_type": "code",
   "execution_count": 2,
   "metadata": {},
   "outputs": [
    {
     "data": {
      "text/html": [
       "<div>\n",
       "<style scoped>\n",
       "    .dataframe tbody tr th:only-of-type {\n",
       "        vertical-align: middle;\n",
       "    }\n",
       "\n",
       "    .dataframe tbody tr th {\n",
       "        vertical-align: top;\n",
       "    }\n",
       "\n",
       "    .dataframe thead th {\n",
       "        text-align: right;\n",
       "    }\n",
       "</style>\n",
       "<table border=\"1\" class=\"dataframe\">\n",
       "  <thead>\n",
       "    <tr style=\"text-align: right;\">\n",
       "      <th></th>\n",
       "      <th>enrollee_id</th>\n",
       "      <th>city</th>\n",
       "      <th>city_development_index</th>\n",
       "      <th>gender</th>\n",
       "      <th>relevent_experience</th>\n",
       "      <th>enrolled_university</th>\n",
       "      <th>education_level</th>\n",
       "      <th>major_discipline</th>\n",
       "      <th>experience</th>\n",
       "      <th>company_size</th>\n",
       "      <th>company_type</th>\n",
       "      <th>last_new_job</th>\n",
       "      <th>training_hours</th>\n",
       "      <th>target</th>\n",
       "    </tr>\n",
       "  </thead>\n",
       "  <tbody>\n",
       "    <tr>\n",
       "      <th>0</th>\n",
       "      <td>8949</td>\n",
       "      <td>city_103</td>\n",
       "      <td>0.920</td>\n",
       "      <td>Male</td>\n",
       "      <td>Has relevent experience</td>\n",
       "      <td>no_enrollment</td>\n",
       "      <td>Graduate</td>\n",
       "      <td>STEM</td>\n",
       "      <td>&gt;20</td>\n",
       "      <td>NaN</td>\n",
       "      <td>NaN</td>\n",
       "      <td>1</td>\n",
       "      <td>36</td>\n",
       "      <td>1.0</td>\n",
       "    </tr>\n",
       "    <tr>\n",
       "      <th>1</th>\n",
       "      <td>29725</td>\n",
       "      <td>city_40</td>\n",
       "      <td>0.776</td>\n",
       "      <td>Male</td>\n",
       "      <td>No relevent experience</td>\n",
       "      <td>no_enrollment</td>\n",
       "      <td>Graduate</td>\n",
       "      <td>STEM</td>\n",
       "      <td>15</td>\n",
       "      <td>50-99</td>\n",
       "      <td>Pvt Ltd</td>\n",
       "      <td>&gt;4</td>\n",
       "      <td>47</td>\n",
       "      <td>0.0</td>\n",
       "    </tr>\n",
       "    <tr>\n",
       "      <th>2</th>\n",
       "      <td>11561</td>\n",
       "      <td>city_21</td>\n",
       "      <td>0.624</td>\n",
       "      <td>NaN</td>\n",
       "      <td>No relevent experience</td>\n",
       "      <td>Full time course</td>\n",
       "      <td>Graduate</td>\n",
       "      <td>STEM</td>\n",
       "      <td>5</td>\n",
       "      <td>NaN</td>\n",
       "      <td>NaN</td>\n",
       "      <td>never</td>\n",
       "      <td>83</td>\n",
       "      <td>0.0</td>\n",
       "    </tr>\n",
       "    <tr>\n",
       "      <th>3</th>\n",
       "      <td>33241</td>\n",
       "      <td>city_115</td>\n",
       "      <td>0.789</td>\n",
       "      <td>NaN</td>\n",
       "      <td>No relevent experience</td>\n",
       "      <td>NaN</td>\n",
       "      <td>Graduate</td>\n",
       "      <td>Business Degree</td>\n",
       "      <td>&lt;1</td>\n",
       "      <td>NaN</td>\n",
       "      <td>Pvt Ltd</td>\n",
       "      <td>never</td>\n",
       "      <td>52</td>\n",
       "      <td>1.0</td>\n",
       "    </tr>\n",
       "    <tr>\n",
       "      <th>4</th>\n",
       "      <td>666</td>\n",
       "      <td>city_162</td>\n",
       "      <td>0.767</td>\n",
       "      <td>Male</td>\n",
       "      <td>Has relevent experience</td>\n",
       "      <td>no_enrollment</td>\n",
       "      <td>Masters</td>\n",
       "      <td>STEM</td>\n",
       "      <td>&gt;20</td>\n",
       "      <td>50-99</td>\n",
       "      <td>Funded Startup</td>\n",
       "      <td>4</td>\n",
       "      <td>8</td>\n",
       "      <td>0.0</td>\n",
       "    </tr>\n",
       "  </tbody>\n",
       "</table>\n",
       "</div>"
      ],
      "text/plain": [
       "   enrollee_id      city  city_development_index gender  \\\n",
       "0         8949  city_103                   0.920   Male   \n",
       "1        29725   city_40                   0.776   Male   \n",
       "2        11561   city_21                   0.624    NaN   \n",
       "3        33241  city_115                   0.789    NaN   \n",
       "4          666  city_162                   0.767   Male   \n",
       "\n",
       "       relevent_experience enrolled_university education_level  \\\n",
       "0  Has relevent experience       no_enrollment        Graduate   \n",
       "1   No relevent experience       no_enrollment        Graduate   \n",
       "2   No relevent experience    Full time course        Graduate   \n",
       "3   No relevent experience                 NaN        Graduate   \n",
       "4  Has relevent experience       no_enrollment         Masters   \n",
       "\n",
       "  major_discipline experience company_size    company_type last_new_job  \\\n",
       "0             STEM        >20          NaN             NaN            1   \n",
       "1             STEM         15        50-99         Pvt Ltd           >4   \n",
       "2             STEM          5          NaN             NaN        never   \n",
       "3  Business Degree         <1          NaN         Pvt Ltd        never   \n",
       "4             STEM        >20        50-99  Funded Startup            4   \n",
       "\n",
       "   training_hours  target  \n",
       "0              36     1.0  \n",
       "1              47     0.0  \n",
       "2              83     0.0  \n",
       "3              52     1.0  \n",
       "4               8     0.0  "
      ]
     },
     "metadata": {},
     "output_type": "display_data"
    },
    {
     "name": "stdout",
     "output_type": "stream",
     "text": [
      "(19158, 14)\n"
     ]
    }
   ],
   "source": [
    "aug_train = pd.read_csv('aug_train.csv')\n",
    "display(aug_train.head())\n",
    "print(aug_train.shape)"
   ]
  },
  {
   "cell_type": "code",
   "execution_count": 3,
   "metadata": {},
   "outputs": [],
   "source": [
    "ProfileReport(aug_train, minimal=False).to_file(output_file=\"output_min.html\")"
   ]
  },
  {
   "cell_type": "markdown",
   "metadata": {},
   "source": [
    "## Explore Data Types/Missing Values"
   ]
  },
  {
   "cell_type": "code",
   "execution_count": 4,
   "metadata": {},
   "outputs": [
    {
     "name": "stdout",
     "output_type": "stream",
     "text": [
      "<class 'pandas.core.frame.DataFrame'>\n",
      "RangeIndex: 19158 entries, 0 to 19157\n",
      "Data columns (total 14 columns):\n",
      " #   Column                  Non-Null Count  Dtype  \n",
      "---  ------                  --------------  -----  \n",
      " 0   enrollee_id             19158 non-null  int64  \n",
      " 1   city                    19158 non-null  object \n",
      " 2   city_development_index  19158 non-null  float64\n",
      " 3   gender                  14650 non-null  object \n",
      " 4   relevent_experience     19158 non-null  object \n",
      " 5   enrolled_university     18772 non-null  object \n",
      " 6   education_level         18698 non-null  object \n",
      " 7   major_discipline        16345 non-null  object \n",
      " 8   experience              19093 non-null  object \n",
      " 9   company_size            13220 non-null  object \n",
      " 10  company_type            13018 non-null  object \n",
      " 11  last_new_job            18735 non-null  object \n",
      " 12  training_hours          19158 non-null  int64  \n",
      " 13  target                  19158 non-null  float64\n",
      "dtypes: float64(2), int64(2), object(10)\n",
      "memory usage: 2.0+ MB\n"
     ]
    }
   ],
   "source": [
    "aug_train.info()"
   ]
  },
  {
   "cell_type": "code",
   "execution_count": 5,
   "metadata": {},
   "outputs": [
    {
     "data": {
      "text/plain": [
       "enrollee_id               0.000000\n",
       "city                      0.000000\n",
       "city_development_index    0.000000\n",
       "gender                    0.235306\n",
       "relevent_experience       0.000000\n",
       "enrolled_university       0.020148\n",
       "education_level           0.024011\n",
       "major_discipline          0.146832\n",
       "experience                0.003393\n",
       "company_size              0.309949\n",
       "company_type              0.320493\n",
       "last_new_job              0.022080\n",
       "training_hours            0.000000\n",
       "target                    0.000000\n",
       "dtype: float64"
      ]
     },
     "execution_count": 5,
     "metadata": {},
     "output_type": "execute_result"
    }
   ],
   "source": [
    "aug_train.isnull().sum()/aug_train.shape[0]"
   ]
  },
  {
   "cell_type": "code",
   "execution_count": 6,
   "metadata": {},
   "outputs": [
    {
     "data": {
      "text/html": [
       "<div>\n",
       "<style scoped>\n",
       "    .dataframe tbody tr th:only-of-type {\n",
       "        vertical-align: middle;\n",
       "    }\n",
       "\n",
       "    .dataframe tbody tr th {\n",
       "        vertical-align: top;\n",
       "    }\n",
       "\n",
       "    .dataframe thead th {\n",
       "        text-align: right;\n",
       "    }\n",
       "</style>\n",
       "<table border=\"1\" class=\"dataframe\">\n",
       "  <thead>\n",
       "    <tr style=\"text-align: right;\">\n",
       "      <th></th>\n",
       "      <th>enrollee_id</th>\n",
       "      <th>city_development_index</th>\n",
       "      <th>training_hours</th>\n",
       "      <th>target</th>\n",
       "    </tr>\n",
       "  </thead>\n",
       "  <tbody>\n",
       "    <tr>\n",
       "      <th>count</th>\n",
       "      <td>19158.000000</td>\n",
       "      <td>19158.000000</td>\n",
       "      <td>19158.000000</td>\n",
       "      <td>19158.000000</td>\n",
       "    </tr>\n",
       "    <tr>\n",
       "      <th>mean</th>\n",
       "      <td>16875.358179</td>\n",
       "      <td>0.828848</td>\n",
       "      <td>65.366896</td>\n",
       "      <td>0.249348</td>\n",
       "    </tr>\n",
       "    <tr>\n",
       "      <th>std</th>\n",
       "      <td>9616.292592</td>\n",
       "      <td>0.123362</td>\n",
       "      <td>60.058462</td>\n",
       "      <td>0.432647</td>\n",
       "    </tr>\n",
       "    <tr>\n",
       "      <th>min</th>\n",
       "      <td>1.000000</td>\n",
       "      <td>0.448000</td>\n",
       "      <td>1.000000</td>\n",
       "      <td>0.000000</td>\n",
       "    </tr>\n",
       "    <tr>\n",
       "      <th>25%</th>\n",
       "      <td>8554.250000</td>\n",
       "      <td>0.740000</td>\n",
       "      <td>23.000000</td>\n",
       "      <td>0.000000</td>\n",
       "    </tr>\n",
       "    <tr>\n",
       "      <th>50%</th>\n",
       "      <td>16982.500000</td>\n",
       "      <td>0.903000</td>\n",
       "      <td>47.000000</td>\n",
       "      <td>0.000000</td>\n",
       "    </tr>\n",
       "    <tr>\n",
       "      <th>75%</th>\n",
       "      <td>25169.750000</td>\n",
       "      <td>0.920000</td>\n",
       "      <td>88.000000</td>\n",
       "      <td>0.000000</td>\n",
       "    </tr>\n",
       "    <tr>\n",
       "      <th>max</th>\n",
       "      <td>33380.000000</td>\n",
       "      <td>0.949000</td>\n",
       "      <td>336.000000</td>\n",
       "      <td>1.000000</td>\n",
       "    </tr>\n",
       "  </tbody>\n",
       "</table>\n",
       "</div>"
      ],
      "text/plain": [
       "        enrollee_id  city_development_index  training_hours        target\n",
       "count  19158.000000            19158.000000    19158.000000  19158.000000\n",
       "mean   16875.358179                0.828848       65.366896      0.249348\n",
       "std     9616.292592                0.123362       60.058462      0.432647\n",
       "min        1.000000                0.448000        1.000000      0.000000\n",
       "25%     8554.250000                0.740000       23.000000      0.000000\n",
       "50%    16982.500000                0.903000       47.000000      0.000000\n",
       "75%    25169.750000                0.920000       88.000000      0.000000\n",
       "max    33380.000000                0.949000      336.000000      1.000000"
      ]
     },
     "execution_count": 6,
     "metadata": {},
     "output_type": "execute_result"
    }
   ],
   "source": [
    "aug_train.describe()"
   ]
  },
  {
   "cell_type": "code",
   "execution_count": 7,
   "metadata": {},
   "outputs": [],
   "source": [
    "protected_attributes = ['gender', 'city_development_index', 'experience', 'target']"
   ]
  },
  {
   "cell_type": "markdown",
   "metadata": {},
   "source": [
    "## Exploratory Data Analysis\n",
    "The purpose of the code in this section is to evaluate the distributions of each of the variables, understand the nature of missing values in the dataset.\n",
    "\n",
    "As a secondary goal, we will explore whether there is an association between values being missing a protected attribute or the target variable."
   ]
  },
  {
   "cell_type": "code",
   "execution_count": 8,
   "metadata": {},
   "outputs": [
    {
     "data": {
      "text/plain": [
       "enrollee_id               0.000000\n",
       "city                      0.000000\n",
       "city_development_index    0.000000\n",
       "gender                    0.235306\n",
       "relevent_experience       0.000000\n",
       "enrolled_university       0.020148\n",
       "education_level           0.024011\n",
       "major_discipline          0.146832\n",
       "experience                0.003393\n",
       "company_size              0.309949\n",
       "company_type              0.320493\n",
       "last_new_job              0.022080\n",
       "training_hours            0.000000\n",
       "target                    0.000000\n",
       "dtype: float64"
      ]
     },
     "execution_count": 8,
     "metadata": {},
     "output_type": "execute_result"
    }
   ],
   "source": [
    "aug_train.isnull().mean()"
   ]
  },
  {
   "cell_type": "code",
   "execution_count": 9,
   "metadata": {},
   "outputs": [
    {
     "data": {
      "text/plain": [
       "enrollee_id                 int64\n",
       "city                       object\n",
       "city_development_index    float64\n",
       "gender                     object\n",
       "relevent_experience        object\n",
       "enrolled_university        object\n",
       "education_level            object\n",
       "major_discipline           object\n",
       "experience                 object\n",
       "company_size               object\n",
       "company_type               object\n",
       "last_new_job               object\n",
       "training_hours              int64\n",
       "target                    float64\n",
       "dtype: object"
      ]
     },
     "execution_count": 9,
     "metadata": {},
     "output_type": "execute_result"
    }
   ],
   "source": [
    "aug_train.dtypes"
   ]
  },
  {
   "cell_type": "code",
   "execution_count": 10,
   "metadata": {},
   "outputs": [
    {
     "data": {
      "text/plain": [
       "Pvt Ltd                9817\n",
       "Funded Startup         1001\n",
       "Public Sector           955\n",
       "Early Stage Startup     603\n",
       "NGO                     521\n",
       "Other                   121\n",
       "Name: company_type, dtype: int64"
      ]
     },
     "execution_count": 10,
     "metadata": {},
     "output_type": "execute_result"
    }
   ],
   "source": [
    "aug_train.company_type.value_counts()"
   ]
  },
  {
   "cell_type": "code",
   "execution_count": 11,
   "metadata": {},
   "outputs": [],
   "source": [
    "# Add orders to our variables for the sake of visualization\n",
    "# Orders\n",
    "\n",
    "ed_order = ['Primary School','High School','Graduate','Masters','Phd']\n",
    "enroll_order = ['no_enrollment','Part time course','Full time course']\n",
    "disc_order = ['STEM','Unknown','Humanities','Other','Business Degree','Arts','No Major']\n",
    "exp_yrs_order = ['<1','1','2','3','4','5','6','7','8','9','10','11','12','13','14','15','16','17','18','19','20','>20']\n",
    "#exp_yrs_order_2 = [1,2,3,4,5,6,7,8,9,10,11,12,13,14,15,16,17,18,19,20]\n",
    "size_order = ['0','<10', '10/49', '50-99', '100-500', '500-999', '1000-4999', '5000-9999', '10000+']\n",
    "job_order = ['never', '1', '2', '3', '4', '>4']\n",
    "exp_order =['No relevant experience','Has relevant experience']\n",
    "gender_order = ['Male','Female','Other']\n",
    "company_order = ['Pvt Ltd','Unknown','Funded Startup','Public Sector','Early Stage Startup','NGO','Other']\n"
   ]
  },
  {
   "cell_type": "code",
   "execution_count": 12,
   "metadata": {},
   "outputs": [
    {
     "data": {
      "image/png": "[encoded data removed]",
      "text/plain": [
       "<Figure size 288x72 with 1 Axes>"
      ]
     },
     "metadata": {},
     "output_type": "display_data"
    }
   ],
   "source": [
    "sns.palplot(['#002d1d','#0e4f66','gray','#fbfbfb'])"
   ]
  },
  {
   "cell_type": "code",
   "execution_count": 13,
   "metadata": {},
   "outputs": [
    {
     "data": {
      "text/plain": [
       "Male      13221\n",
       "Female     1238\n",
       "Other       191\n",
       "Name: gender, dtype: int64"
      ]
     },
     "execution_count": 13,
     "metadata": {},
     "output_type": "execute_result"
    }
   ],
   "source": [
    "aug_train.gender.value_counts()"
   ]
  },
  {
   "cell_type": "code",
   "execution_count": null,
   "metadata": {},
   "outputs": [],
   "source": [
    "x=aug_train.groupby(['target'])['target'].count()\n",
    "y=len(aug_train)\n",
    "r=((x/y)).round(2)\n",
    "ratio = pd.DataFrame(r).T\n",
    "\n",
    "\n",
    "fig, ax = plt.subplots(1,1,figsize=(6.5, 2),dpi=150)\n",
    "background_color = \"#fbfbfb\"\n",
    "fig.patch.set_facecolor(background_color)\n",
    "ax.set_facecolor(background_color) \n",
    "\n",
    "ax.barh(ratio.index, ratio[1.0], color='#0e4f66', alpha=0.9, ec=background_color, label='Job-Seeker')\n",
    "ax.barh(ratio.index, ratio[0.0], left=ratio[1.0], color='gray', alpha=0.9,ec=background_color, label='Non Job-Seeker')\n",
    "\n",
    "ax.set_xlim(0, 1)\n",
    "ax.set_xticks([])\n",
    "ax.set_yticks([])\n",
    "ax.legend().set_visible(False)\n",
    "for s in ['top', 'left', 'right', 'bottom']:\n",
    "    ax.spines[s].set_visible(False)\n",
    "    \n",
    "for i in ratio.index:\n",
    "    ax.annotate(f\"{int(ratio[1.0][i]*100)}%\", xy=(ratio[1.0][i]/2, i),va = 'center', ha='center',fontsize=32, fontweight='light', fontfamily='serif',color='white')\n",
    "    ax.annotate(\"Job-Seeker\", xy=(ratio[1.0][i]/2, -0.25),va = 'center', ha='center',fontsize=12, fontweight='light', fontfamily='serif',color='white')\n",
    "    \n",
    "    \n",
    "for i in ratio.index:\n",
    "    ax.annotate(f\"{int(ratio[0.0][i]*100)}%\", xy=(ratio[1.0][i]+ratio[0.0][i]/2, i),va = 'center', ha='center',fontsize=32, fontweight='light', fontfamily='serif',color='white')\n",
    "    ax.annotate(\"Non Job-Seeker\", xy=(ratio[1.0][i]+ratio[0.0][i]/2, -0.25),va = 'center', ha='center',fontsize=12, fontweight='light', fontfamily='serif',color='white')\n",
    "\n",
    "\n",
    "fig.text(0.125,1.1,'How many are looking for a new role?', fontfamily='serif',fontsize=15, fontweight='bold')\n",
    "fig.text(0.125,0.915,'We see an imbalanced dataset;\\nmost people are not job-seeking',fontfamily='serif',fontsize=12)  \n",
    "\n",
    "\n",
    "plt.show()"
   ]
  },
  {
   "cell_type": "markdown",
   "metadata": {},
   "source": [
    "We now create plots that take advantage of GridSpec and plot multiple plots in a highly-customizable fashion."
   ]
  },
  {
   "cell_type": "code",
   "execution_count": 14,
   "metadata": {},
   "outputs": [
    {
     "data": {
      "text/plain": [
       "enrollee_id                 int64\n",
       "city                       object\n",
       "city_development_index    float64\n",
       "gender                     object\n",
       "relevent_experience        object\n",
       "enrolled_university        object\n",
       "education_level            object\n",
       "major_discipline           object\n",
       "experience                 object\n",
       "company_size               object\n",
       "company_type               object\n",
       "last_new_job               object\n",
       "training_hours              int64\n",
       "target                    float64\n",
       "dtype: object"
      ]
     },
     "execution_count": 14,
     "metadata": {},
     "output_type": "execute_result"
    }
   ],
   "source": [
    "aug_train.dtypes"
   ]
  },
  {
   "cell_type": "code",
   "execution_count": 15,
   "metadata": {},
   "outputs": [
    {
     "data": {
      "text/plain": [
       "enrollee_id               19158\n",
       "city                        123\n",
       "city_development_index       93\n",
       "gender                        3\n",
       "relevent_experience           2\n",
       "enrolled_university           3\n",
       "education_level               5\n",
       "major_discipline              6\n",
       "experience                   22\n",
       "company_size                  8\n",
       "company_type                  6\n",
       "last_new_job                  6\n",
       "training_hours              241\n",
       "target                        2\n",
       "dtype: int64"
      ]
     },
     "execution_count": 15,
     "metadata": {},
     "output_type": "execute_result"
    }
   ],
   "source": [
    "aug_train.nunique()"
   ]
  },
  {
   "cell_type": "code",
   "execution_count": 16,
   "metadata": {},
   "outputs": [
    {
     "data": {
      "text/plain": [
       "Male      0.690103\n",
       "NaN       0.235306\n",
       "Female    0.064621\n",
       "Other     0.009970\n",
       "Name: gender, dtype: float64"
      ]
     },
     "execution_count": 16,
     "metadata": {},
     "output_type": "execute_result"
    }
   ],
   "source": [
    "aug_train.gender.value_counts(normalize = True, dropna=False)"
   ]
  },
  {
   "cell_type": "code",
   "execution_count": null,
   "metadata": {},
   "outputs": [],
   "source": [
    "background_color = \"#fbfbfb\"\n",
    "\n",
    "fig, ax = plt.subplots(figsize=(22,15), dpi=150)\n",
    "\n",
    "fig.patch.set_facecolor(background_color)\n",
    "\n",
    "\n",
    "# Let's start with all the low-cardinality categorical variables\n",
    "# With cardinality <= 5, we do vertical bar charts\n",
    "\n",
    "train = pd.DataFrame(aug_train[\"gender\"].value_counts(dropna=False))\n",
    "train[\"Percentage\"] = train[\"gender\"].apply(lambda x: x/sum(train[\"gender\"])*100)\n",
    "\n",
    "x = np.arange(len(train))\n",
    "\n",
    "ax.text(-0.6, 76, 'Gender', fontsize=28, fontweight='bold', fontfamily='serif', color=\"#323232\")\n",
    "ax.grid(color='gray', linestyle=':', axis='y', zorder=0,  dashes=(1,5))\n",
    "ax.bar(x, height=train[\"Percentage\"], zorder=3, color=\"gray\", width=0.4)\n",
    "ax.set_xticks(x + 0.4 / 2)\n",
    "\n",
    "ax.set_xticklabels(['Male','Not Provided','Female','Other'])\n",
    "ax.yaxis.set_major_formatter(mtick.PercentFormatter())\n",
    "ax.yaxis.set_major_locator(mtick.MultipleLocator(10))\n",
    "\n",
    "\n",
    "plt.rcParams.update({'font.size': 22})\n",
    "plt.show()\n",
    "\n",
    "# With cardinatlity >5, we do horizotal bars"
   ]
  },
  {
   "cell_type": "code",
   "execution_count": 17,
   "metadata": {},
   "outputs": [
    {
     "data": {
      "text/plain": [
       "Text(0, 0.5, 'GDP Per Capita')"
      ]
     },
     "execution_count": 17,
     "metadata": {},
     "output_type": "execute_result"
    },
    {
     "data": {
      "image/png": "[encoded data removed]",
      "text/plain": [
       "<Figure size 1080x1584 with 1 Axes>"
      ]
     },
     "metadata": {},
     "output_type": "display_data"
    }
   ],
   "source": [
    "fig, ax = plt.subplots(figsize=(15,22))\n",
    "\n",
    "train = pd.DataFrame(aug_train[\"gender\"].value_counts(dropna=False))\n",
    "train[\"Percentage\"] = train[\"gender\"].apply(lambda x: x/sum(train[\"gender\"])*100)\n",
    "x = np.arange(len(train))\n",
    "ax.bar(x, train.Percentage)\n",
    "plt.title('Distribution of Gender')\n",
    "plt.xlabel('Gender', fontsize=14)\n",
    "plt.ylabel('Percent of the Data', fontsize=14)\n",
    "plt.show()"
   ]
  },
  {
   "cell_type": "markdown",
   "metadata": {},
   "source": [
    "## Implementation and Validation\n",
    "Present your understanding of the code that implements this ADS. Describe data cleaning and any other pre-processing.  Give high-level information about the implementation of the system. How wan the ADS validated? How do we know that it meets its stated goal(s)?"
   ]
  },
  {
   "cell_type": "code",
   "execution_count": null,
   "metadata": {},
   "outputs": [],
   "source": [
    "## To keep the raw data and the imputed data for the ADS separate,\n",
    "## we create an alias for our data\n",
    "\n",
    "train_df = aug_train"
   ]
  },
  {
   "cell_type": "code",
   "execution_count": null,
   "metadata": {},
   "outputs": [],
   "source": [
    "## mimic the data cleaning steps taken in the ADS\n",
    "train_df['last_new_job'] = train_df['last_new_job'].apply(lambda x: 'Never' if x == 'never' else x) #just reads nicer\n",
    "train_df['enrolled_university'][train_df['enrolled_university'] == 'no_enrollment'] = 'No Enrollment' #just reads nicer\n",
    "train_df['company_size'] = train_df['company_size'].apply(lambda x: '10-49' if x == '10/49' else x) #diff replacement method\n",
    "\n",
    "train_df['experience'] = train_df['experience'].apply(lambda x: '0' if x == '<1' else x)\n",
    "train_df['experience'] = train_df['experience'].apply(lambda x: '20' if x == '>20' else x)\n",
    "\n",
    "train_df['company_size'].fillna('0',inplace=True)\n",
    "train_df['company_type'].fillna('Unknown',inplace=True)\n",
    "train_df['major_discipline'].fillna('Unknown',inplace=True)\n",
    "train_df['gender'].fillna('Not provided',inplace=True)"
   ]
  },
  {
   "cell_type": "code",
   "execution_count": null,
   "metadata": {},
   "outputs": [],
   "source": [
    "## Now look at the distribution of missing values and how it's different\n",
    "train_df.isnull().sum()/train_df.shape[0]"
   ]
  },
  {
   "cell_type": "code",
   "execution_count": null,
   "metadata": {},
   "outputs": [],
   "source": [
    "## Now we drop the remainder of the missing values\n",
    "train_df.dropna(inplace=True)\n",
    "print(train_df.shape)\n",
    "print(train_df.isna().sum()/len(train_df)"
   ]
  },
  {
   "cell_type": "code",
   "execution_count": null,
   "metadata": {},
   "outputs": [],
   "source": [
    "# Converting objects to integers\n",
    "train_df['experience'] = train_df['experience'].astype(str).astype(int)\n",
    "\n",
    "train_df['training_hours'] = train_df['training_hours'].astype(str).astype(int)"
   ]
  },
  {
   "cell_type": "code",
   "execution_count": null,
   "metadata": {},
   "outputs": [],
   "source": [
    "# Add orders to our variables for the sake of visualization\n",
    "# Orders\n",
    "\n",
    "ed_order = ['Primary School','High School','Graduate','Masters','Phd']\n",
    "enroll_order = ['No Enrollment','Part time course','Full time course']\n",
    "disc_order = ['STEM','Unknown','Humanities','Other','Business Degree','Arts','No Major']\n",
    "exp_yrs_order = ['<1','1','2','3','4','5','6','7','8','9','10','11','12','13','14','15','16','17','18','19','20','>20']\n",
    "exp_yrs_order_2 = [1,2,3,4,5,6,7,8,9,10,11,12,13,14,15,16,17,18,19,20]\n",
    "size_order = ['0','<10', '10-49', '50-99', '100-500', '500-999', '1000-4999', '5000-9999', '10000+']\n",
    "job_order = ['Never', '1', '2', '3', '4', '>4']\n",
    "exp_order =['No relevant experience','Has relevant experience']\n",
    "gender_order = ['Male','Female','Other','Not provided']\n",
    "company_order = ['Pvt Ltd','Unknown','Funded Startup','Public Sector','Early Stage Startup','NGO','Other']\n"
   ]
  }
 ],
 "metadata": {
  "kernelspec": {
   "display_name": "Python 3",
   "language": "python",
   "name": "python3"
  },
  "language_info": {
   "codemirror_mode": {
    "name": "ipython",
    "version": 3
   },
   "file_extension": ".py",
   "mimetype": "text/x-python",
   "name": "python",
   "nbconvert_exporter": "python",
   "pygments_lexer": "ipython3",
   "version": "3.7.6"
  }
 },
 "nbformat": 4,
 "nbformat_minor": 2
}
